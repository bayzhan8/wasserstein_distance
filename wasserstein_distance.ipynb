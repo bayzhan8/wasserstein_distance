{
 "cells": [
  {
   "cell_type": "code",
   "execution_count": 10,
   "id": "fafafcb5-9917-42d4-baff-97730114d46d",
   "metadata": {},
   "outputs": [],
   "source": [
    "import numpy as np\n",
    "import cvxpy as cp"
   ]
  },
  {
   "cell_type": "code",
   "execution_count": 36,
   "id": "20c2578e-4cc8-44a2-adfb-3ffcb50ea8d9",
   "metadata": {},
   "outputs": [],
   "source": [
    "def wasserstein_distance_2d(matrix1, matrix2, distance_func):\n",
    "    \"\"\"\n",
    "    Compute the Wasserstein distance between two probability density matrices using a custom distance function.\n",
    "    \n",
    "    Inputs:\n",
    "        matrix1 & matrix2: The first probability density matrices (numpy.ndarray)\n",
    "        distance_func (function): A function that computes the distance between two 2d points.\n",
    "                                  two arguments -> scalar distance\n",
    "    Output:\n",
    "        float: The Wasserstein distance between matrix1 and matrix2.\n",
    "    \n",
    "    Note: Though we assume that matrix1.sum() = matrix2.sum() = 1,\n",
    "    numpy has some precision limitations, and thus the constraints account for that.\n",
    "    \"\"\"\n",
    "\n",
    "    # Normalize (just in case)\n",
    "    matrix1 = matrix1/matrix1.sum()\n",
    "    matrix2 = matrix2/matrix2.sum()\n",
    "    \n",
    "    n = len(matrix1)\n",
    "    \n",
    "    # Distance pre-calc\n",
    "    x1, y1 = np.meshgrid(range(n), range(n))\n",
    "    x2, y2 = np.meshgrid(range(n), range(n))\n",
    "    \n",
    "    coords1 = np.vstack([x1.flatten(), y1.flatten()]).T\n",
    "    coords2 = np.vstack([x2.flatten(), y2.flatten()]).T\n",
    "\n",
    "    distances = np.array([[distance_func(p1, p2) for p2 in coords2] for p1 in coords1])\n",
    "\n",
    "    # Decision Variable\n",
    "    Z = cp.Variable((n*n, n*n))\n",
    "    \n",
    "    # Objective function\n",
    "    objective = cp.sum(cp.multiply(distances, Z))\n",
    "    \n",
    "    # Define constraints\n",
    "    constraints = [\n",
    "        Z >= 0\n",
    "    ]\n",
    "    \n",
    "    # Add the new constraint for each i, j.\n",
    "    # Three equivalent for robustness.\n",
    "    \n",
    "    if matrix1.sum() > matrix2.sum():\n",
    "        for i in range(n):\n",
    "            for j in range(n):\n",
    "                idx = i * n + j\n",
    "                constraints.append(cp.sum(Z[idx, :]) == matrix1[i, j])\n",
    "                constraints.append(cp.sum(Z[:, idx]) >= matrix2[i, j])\n",
    "        # Define the problem\n",
    "        problem = cp.Problem(cp.Minimize(objective), constraints)\n",
    "    \n",
    "    elif matrix2.sum() > matrix1.sum():\n",
    "        for i in range(n):\n",
    "            for j in range(n):\n",
    "                idx = i * n + j\n",
    "                constraints.append(cp.sum(Z[idx, :]) == matrix1[i, j])\n",
    "                constraints.append(cp.sum(Z[:, idx]) <= matrix2[i, j])\n",
    "        # Define the problem\n",
    "        problem = cp.Problem(cp.Minimize(objective), constraints)\n",
    "    \n",
    "    else: # matrix2.sum() == matrix1.sum()\n",
    "        for i in range(n):\n",
    "            for j in range(n):\n",
    "                idx = i * n + j\n",
    "                constraints.append(cp.sum(Z[idx, :]) == matrix1[i, j])\n",
    "                constraints.append(cp.sum(Z[:, idx]) == matrix2[i, j])\n",
    "       \n",
    "        problem = cp.Problem(cp.Minimize(objective), constraints)\n",
    "    \n",
    "    problem.solve(solver=cp.ECOS_BB)\n",
    "\n",
    "    print(\"Status: \", problem.status)\n",
    "    print(\"Optimal Valeu: \", problem.value)"
   ]
  },
  {
   "cell_type": "code",
   "execution_count": 37,
   "id": "1c735511-1937-4563-8a4c-1cbbae17967f",
   "metadata": {},
   "outputs": [],
   "source": [
    "def euclidean_distance(p1, p2):\n",
    "    return np.sqrt(np.sum((np.array(p1) - np.array(p2))**2))\n",
    "\n",
    "def manhattan_distance(p1, p2):\n",
    "    return np.sum(np.abs(np.array(p1) - np.array(p2)))"
   ]
  },
  {
   "cell_type": "code",
   "execution_count": 38,
   "id": "89e552dc-d2a8-47c9-92fa-32f54ddde661",
   "metadata": {},
   "outputs": [
    {
     "name": "stdout",
     "output_type": "stream",
     "text": [
      "Status:  optimal\n",
      "Optimal Valeu:  4.3283563176248335e-10\n"
     ]
    }
   ],
   "source": [
    "matrix1 = np.array([[0.5, 0.5], [0.5, 0.5]])\n",
    "matrix2 = np.array([[0.5, 0.5], [0.5, 0.5]])\n",
    "\n",
    "wasserstein_distance_2d(matrix1, matrix2, euclidean_distance)"
   ]
  },
  {
   "cell_type": "code",
   "execution_count": 39,
   "id": "7dbbe50c-4bc9-4fcf-8c49-91ae3521885c",
   "metadata": {},
   "outputs": [
    {
     "name": "stdout",
     "output_type": "stream",
     "text": [
      "Status:  optimal\n",
      "Optimal Valeu:  0.9999999999689657\n"
     ]
    }
   ],
   "source": [
    "matrix1 = np.array([[0.5, 0.5], [0, 0]])\n",
    "matrix2 = np.array([[0, 0], [0.5, 0.5]])\n",
    "\n",
    "wasserstein_distance_2d(matrix1, matrix2, euclidean_distance)"
   ]
  },
  {
   "cell_type": "code",
   "execution_count": 40,
   "id": "a7836541-f70c-47fc-a3bf-45d5007fd0ed",
   "metadata": {},
   "outputs": [
    {
     "name": "stdout",
     "output_type": "stream",
     "text": [
      "Status:  optimal\n",
      "Optimal Valeu:  3.52809263455005e-10\n"
     ]
    }
   ],
   "source": [
    "matrix1 = np.array([[0.5, 0.5], [0.5, 0.5]])\n",
    "matrix2 = np.array([[0.5, 0.5], [0.5, 0.5]])\n",
    "\n",
    "wasserstein_distance_2d(matrix1, matrix2, manhattan_distance)"
   ]
  },
  {
   "cell_type": "code",
   "execution_count": 41,
   "id": "b59a421a-4f2f-4f25-beb4-8575d59da44b",
   "metadata": {},
   "outputs": [
    {
     "name": "stdout",
     "output_type": "stream",
     "text": [
      "Status:  optimal\n",
      "Optimal Valeu:  1.9999999939760034\n"
     ]
    }
   ],
   "source": [
    "matrix1 = np.array([[1, 0], [0, 0]])\n",
    "matrix2 = np.array([[0, 0], [0, 1]])\n",
    "\n",
    "wasserstein_distance_2d(matrix1, matrix2, manhattan_distance)"
   ]
  }
 ],
 "metadata": {
  "kernelspec": {
   "display_name": "Python 3 (ipykernel)",
   "language": "python",
   "name": "python3"
  },
  "language_info": {
   "codemirror_mode": {
    "name": "ipython",
    "version": 3
   },
   "file_extension": ".py",
   "mimetype": "text/x-python",
   "name": "python",
   "nbconvert_exporter": "python",
   "pygments_lexer": "ipython3",
   "version": "3.10.6"
  }
 },
 "nbformat": 4,
 "nbformat_minor": 5
}
